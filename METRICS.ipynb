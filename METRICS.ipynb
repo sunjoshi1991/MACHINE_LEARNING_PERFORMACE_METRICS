{
 "cells": [
  {
   "cell_type": "code",
   "execution_count": 14,
   "metadata": {},
   "outputs": [
    {
     "name": "stdout",
     "output_type": "stream",
     "text": [
      "Accuracy is :40.0 % \n"
     ]
    }
   ],
   "source": [
    "### Accuracy for calssification algorithms\n",
    "def accuracy(true, pred):\n",
    "    correct = 0\n",
    "    for i in range(len(true)):\n",
    "        if true[i] == pred[i]:\n",
    "            correct +=1\n",
    "    return (correct/float(len(true))*100.0)\n",
    " \n",
    "true = [0,0,1,1,0,1,0,1,1,1]\n",
    "pred = [1,1,1,1,0,0,0,0,0,0]\n",
    "print(\"Accuracy is :{} % \".format(accuracy(true, pred )))"
   ]
  },
  {
   "cell_type": "code",
   "execution_count": 31,
   "metadata": {},
   "outputs": [
    {
     "name": "stdout",
     "output_type": "stream",
     "text": [
      "Confusion Matrix  :[[2, 4], [2, 2]]  \n"
     ]
    }
   ],
   "source": [
    "### Confusion matrix for calssification Algos\n",
    "\n",
    "def confusion_matrix(true, pred):\n",
    "    distinct = set(true)\n",
    "    matrix = [list() for y in range(len(distinct))]    \n",
    "    for j in range(len(distinct)):\n",
    "        matrix[j] = [0 for x  in range(len(distinct))]\n",
    "    lookup = dict() ### dict for lookup \n",
    "    for key , val in enumerate(distinct):\n",
    "        lookup[val]  = key\n",
    "    for i in range(len(true)):\n",
    "        x = lookup[true[i]]\n",
    "        y = lookup[pred[i]]\n",
    "        matrix[y][x]+=1\n",
    "    return  matrix\n",
    "true = [0,0,1,1,0,1,0,1,1,1]\n",
    "pred = [1,1,1,1,0,0,0,0,0,0]\n",
    "print(\"Confusion Matrix  :{}  \".format(confusion_matrix(true, pred )))"
   ]
  },
  {
   "cell_type": "code",
   "execution_count": 45,
   "metadata": {},
   "outputs": [],
   "source": [
    "### Classficatipn Performance metrics like Accuracy , Precision , Recall using true and false positives , negatives\n",
    "\n",
    "def find_TP(true, pred):\n",
    "    return sum((true ==1) & (pred == 1))\n",
    "\n",
    "def find_TN(true , pred):\n",
    "    return sum((true ==1) & (pred == 0))\n",
    "\n",
    "def find_FP(true , pred):\n",
    "    return sum((true ==0) & (pred == 1))\n",
    "\n",
    "def find_FN(true , pred):\n",
    "    return sum((true ==1) & (pred == 0))\n",
    "\n",
    "def Accuracy_precision_recall(true , pred):\n",
    "    tp = find_TP(true, pred)\n",
    "    tn = find_TN(true , pred)\n",
    "    fp = find_FP(true, pred)\n",
    "    fn = find_FN(true, pred)\n",
    "    Acc  = ((tp+tn)/ (tp+tn+fp+fn))\n",
    "    Prec = (tp/(tp+fp))\n",
    "    Rec = (tp/(tp+fn))\n",
    "    return Acc, Prec , Rec\n",
    "\n"
   ]
  },
  {
   "cell_type": "code",
   "execution_count": 15,
   "metadata": {},
   "outputs": [
    {
     "name": "stdout",
     "output_type": "stream",
     "text": [
      "Mean Absolute Error is : 0.625 \n"
     ]
    }
   ],
   "source": [
    "### Mean absolute error for regression algos\n",
    "\n",
    "def MAE(true , pred):\n",
    "    error = 0\n",
    "    for i in range(len(true)):\n",
    "        error += abs(pred[i] - true[i])\n",
    "    return error / float(len(true))\n",
    "\n",
    "true = [1.4, 2.3, 4.5, 5.4]\n",
    "pred = [1.3,2.1, 3.5, 4.2]\n",
    "\n",
    "print(\"Mean Absolute Error is : {} \" . format(MAE(true, pred)))"
   ]
  },
  {
   "cell_type": "code",
   "execution_count": 16,
   "metadata": {},
   "outputs": [
    {
     "name": "stdout",
     "output_type": "stream",
     "text": [
      "Root Mean Squared Error is 0.788986691902975 \n"
     ]
    }
   ],
   "source": [
    "#### Root mean square error for regression algos\n",
    "from math import *\n",
    "def RMSE(true , pred):\n",
    "    error = 0\n",
    "    for i in range(len(true)):\n",
    "        pred_error = pred[i] - true[i]\n",
    "        error += (pred_error **2)\n",
    "    mean_error = error/ float(len(true))\n",
    "    return sqrt(mean_error)\n",
    "\n",
    "true = [1.4, 2.3, 4.5, 5.4]\n",
    "pred = [1.3,2.1, 3.5, 4.2]\n",
    "\n",
    "\n",
    "print(\"Root Mean Squared Error is {} \" . format(RMSE(true, pred)))\n"
   ]
  },
  {
   "cell_type": "code",
   "execution_count": null,
   "metadata": {},
   "outputs": [],
   "source": []
  },
  {
   "cell_type": "code",
   "execution_count": null,
   "metadata": {},
   "outputs": [],
   "source": []
  },
  {
   "cell_type": "code",
   "execution_count": null,
   "metadata": {},
   "outputs": [],
   "source": []
  },
  {
   "cell_type": "code",
   "execution_count": null,
   "metadata": {},
   "outputs": [],
   "source": []
  },
  {
   "cell_type": "code",
   "execution_count": null,
   "metadata": {},
   "outputs": [],
   "source": []
  },
  {
   "cell_type": "code",
   "execution_count": null,
   "metadata": {},
   "outputs": [],
   "source": []
  },
  {
   "cell_type": "code",
   "execution_count": null,
   "metadata": {},
   "outputs": [],
   "source": []
  },
  {
   "cell_type": "code",
   "execution_count": null,
   "metadata": {},
   "outputs": [],
   "source": []
  },
  {
   "cell_type": "code",
   "execution_count": null,
   "metadata": {},
   "outputs": [],
   "source": []
  },
  {
   "cell_type": "code",
   "execution_count": null,
   "metadata": {},
   "outputs": [],
   "source": []
  }
 ],
 "metadata": {
  "kernelspec": {
   "display_name": "Python 3",
   "language": "python",
   "name": "python3"
  },
  "language_info": {
   "codemirror_mode": {
    "name": "ipython",
    "version": 3
   },
   "file_extension": ".py",
   "mimetype": "text/x-python",
   "name": "python",
   "nbconvert_exporter": "python",
   "pygments_lexer": "ipython3",
   "version": "3.7.3"
  }
 },
 "nbformat": 4,
 "nbformat_minor": 4
}
